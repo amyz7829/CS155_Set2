{
 "cells": [
  {
   "cell_type": "markdown",
   "metadata": {},
   "source": [
    "# Problem 3 "
   ]
  },
  {
   "cell_type": "markdown",
   "metadata": {},
   "source": [
    "Use this notebook to write your code for problem 3. "
   ]
  },
  {
   "cell_type": "code",
   "execution_count": 3,
   "metadata": {},
   "outputs": [],
   "source": [
    "import numpy as np\n",
    "from matplotlib import pyplot as plt\n",
    "from numpy import genfromtxt\n",
    "from sklearn.linear_model import Ridge\n",
    "from sklearn.linear_model import Lasso\n",
    "%matplotlib inline"
   ]
  },
  {
   "cell_type": "markdown",
   "metadata": {},
   "source": [
    "## Load data"
   ]
  },
  {
   "cell_type": "code",
   "execution_count": 5,
   "metadata": {},
   "outputs": [],
   "source": [
    "train_file = 'data/problem3data.txt'\n",
    "train_data = genfromtxt(train_file, delimiter='\\t')\n",
    "\n",
    "y_train = train_data[:, 9]\n",
    "X_train = train_data[:, :9]"
   ]
  },
  {
   "cell_type": "code",
   "execution_count": 6,
   "metadata": {},
   "outputs": [
    {
     "name": "stdout",
     "output_type": "stream",
     "text": [
      "[0.01       0.11310345 0.2162069  0.31931034 0.42241379 0.52551724\n",
      " 0.62862069 0.73172414 0.83482759 0.93793103 1.04103448 1.14413793\n",
      " 1.24724138 1.35034483 1.45344828 1.55655172 1.65965517 1.76275862\n",
      " 1.86586207 1.96896552 2.07206897 2.17517241 2.27827586 2.38137931\n",
      " 2.48448276 2.58758621 2.69068966 2.7937931  2.89689655 3.        ]\n"
     ]
    }
   ],
   "source": [
    "alphas = np.linspace(0.01, 3, 30)\n",
    "\n",
    "for i in range(0, len(al))"
   ]
  },
  {
   "cell_type": "code",
   "execution_count": null,
   "metadata": {},
   "outputs": [],
   "source": []
  }
 ],
 "metadata": {
  "kernelspec": {
   "display_name": "Python 3",
   "language": "python",
   "name": "python3"
  },
  "language_info": {
   "codemirror_mode": {
    "name": "ipython",
    "version": 3
   },
   "file_extension": ".py",
   "mimetype": "text/x-python",
   "name": "python",
   "nbconvert_exporter": "python",
   "pygments_lexer": "ipython3",
   "version": "3.6.4"
  }
 },
 "nbformat": 4,
 "nbformat_minor": 2
}
